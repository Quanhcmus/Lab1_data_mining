{
 "cells": [
  {
   "cell_type": "code",
   "execution_count": 1,
   "metadata": {},
   "outputs": [],
   "source": [
    "import pandas as pd"
   ]
  },
  {
   "cell_type": "code",
   "execution_count": 2,
   "metadata": {},
   "outputs": [
    {
     "data": {
      "text/plain": [
       "0"
      ]
     },
     "execution_count": 2,
     "metadata": {},
     "output_type": "execute_result"
    }
   ],
   "source": [
    "df=pd.read_csv('output/deleteDuplicate.csv')\n",
    "df.duplicated().sum()"
   ]
  },
  {
   "cell_type": "code",
   "execution_count": 4,
   "metadata": {},
   "outputs": [
    {
     "name": "stdout",
     "output_type": "stream",
     "text": [
      "(1000, 81)\n",
      "     LotFrontage Alley MasVnrType  MasVnrArea BsmtQual BsmtCond BsmtExposure  \\\n",
      "0           83.0   NaN      Stone         0.0       Gd       TA           Av   \n",
      "1           70.0   NaN        NaN         0.0      NaN      NaN          NaN   \n",
      "2           50.0   NaN        NaN         0.0       TA       TA           No   \n",
      "3           52.0   NaN        NaN         0.0       Gd       TA           Mn   \n",
      "4            NaN   NaN        NaN         0.0       TA       TA           No   \n",
      "..           ...   ...        ...         ...      ...      ...          ...   \n",
      "995         60.0   NaN        NaN         0.0       TA       TA           No   \n",
      "996          NaN   NaN    BrkFace       138.0       TA       TA           No   \n",
      "997         65.0   NaN        NaN         0.0       Gd       Gd           No   \n",
      "998         98.0   NaN    BrkFace       975.0       Gd       TA           No   \n",
      "999         75.0   NaN        NaN         0.0       TA       TA           Mn   \n",
      "\n",
      "    BsmtFinType1 BsmtFinType2 FireplaceQu GarageType  GarageYrBlt  \\\n",
      "0            Unf          Unf         NaN     Attchd       2007.0   \n",
      "1            NaN          NaN         NaN    CarPort       1962.0   \n",
      "2            Unf          Unf          Gd    BuiltIn       1929.0   \n",
      "3            Rec          Unf         NaN     Detchd       1925.0   \n",
      "4            ALQ          Rec          Po     Attchd       1960.0   \n",
      "..           ...          ...         ...        ...          ...   \n",
      "995          Unf          Unf          TA     Attchd       1999.0   \n",
      "996          ALQ          Unf         NaN     Attchd       1972.0   \n",
      "997          Unf          Unf         NaN     Attchd       2006.0   \n",
      "998          GLQ          Unf          TA     Attchd       1998.0   \n",
      "999          BLQ          Unf         NaN     Attchd       1965.0   \n",
      "\n",
      "    GarageFinish GarageQual GarageCond  PoolQC Fence MiscFeature  \n",
      "0            RFn         TA         TA     NaN   NaN         NaN  \n",
      "1            Unf         TA         TA     NaN   NaN         NaN  \n",
      "2            RFn         TA         TA     NaN   NaN         NaN  \n",
      "3            Unf         Fa         TA     NaN   NaN         NaN  \n",
      "4            RFn         TA         TA     NaN  GdWo         NaN  \n",
      "..           ...        ...        ...     ...   ...         ...  \n",
      "995          Fin         TA         TA     NaN   NaN         NaN  \n",
      "996          Fin         TA         TA     NaN   NaN         NaN  \n",
      "997          RFn         TA         TA     NaN   NaN         NaN  \n",
      "998          Fin         TA         TA     NaN   NaN         NaN  \n",
      "999          Unf         TA         TA     NaN   NaN         NaN  \n",
      "\n",
      "[1000 rows x 18 columns]\n"
     ]
    }
   ],
   "source": [
    "df = pd.read_csv('input/house-prices.csv')\n",
    "print(df.shape)\n",
    "is_missing = df.isnull()\n",
    "\n",
    "# Get the names of the columns with at least one missing value\n",
    "columns_with_missing_values = is_missing.any()\n",
    "\n",
    "# Select the columns with missing values from the original DataFrame\n",
    "columns_missing_values = df.loc[:, columns_with_missing_values]\n",
    "\n",
    "print(columns_missing_values)"
   ]
  },
  {
   "cell_type": "code",
   "execution_count": 3,
   "metadata": {},
   "outputs": [
    {
     "name": "stdout",
     "output_type": "stream",
     "text": [
      "Number of rows with missing data: 1000\n"
     ]
    }
   ],
   "source": [
    "import pandas as pd\n",
    "df = pd.read_csv('input/house-prices.csv')\n",
    "# Count the number of rows with missing data\n",
    "missing_count = df.isnull().any(axis=1).sum()\n",
    "\n",
    "# Print the result\n",
    "print(\"Number of rows with missing data:\", missing_count)"
   ]
  },
  {
   "cell_type": "code",
   "execution_count": 4,
   "metadata": {},
   "outputs": [
    {
     "name": "stdout",
     "output_type": "stream",
     "text": [
      "(307, 81)\n"
     ]
    }
   ],
   "source": [
    "import pandas as pd\n",
    "\n",
    "df = pd.read_csv('input/house-prices.csv')\n",
    "missing_values_count = df.isnull().sum(axis=1)\n",
    "threshold = len(df.columns)*0.05\n",
    "df = df[missing_values_count <= threshold]\n",
    "print(df.shape)"
   ]
  }
 ],
 "metadata": {
  "kernelspec": {
   "display_name": "Python 3",
   "language": "python",
   "name": "python3"
  },
  "language_info": {
   "codemirror_mode": {
    "name": "ipython",
    "version": 3
   },
   "file_extension": ".py",
   "mimetype": "text/x-python",
   "name": "python",
   "nbconvert_exporter": "python",
   "pygments_lexer": "ipython3",
   "version": "3.9.0"
  },
  "orig_nbformat": 4
 },
 "nbformat": 4,
 "nbformat_minor": 2
}
